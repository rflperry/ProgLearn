{
 "cells": [
  {
   "cell_type": "markdown",
   "metadata": {},
   "source": [
    "# SPORF Tutorial"
   ]
  },
  {
   "cell_type": "markdown",
   "metadata": {},
   "source": [
    "The purpose of this tutorial is to prove that this pure python implementation of SPORF is identical, in terms of functionality, to the one used in the SPORF paper (Tomita, Tyler M., et al. \"Sparse projection oblique randomer forests.\" Journal of Machine Learning Research 21.104 (2020): 1-39.). In order to do this, this notebook runs this implementation of SPORF on 3 different data sets: hill valley, acute inflammation task 1, and acute inflammation task 2. Cohen's Kappa (fractional decrease in error rate over the chance error rate) is the metric that is being used to compare the implementations. If this implementation has the same kappa values (for the same data sets) as the one in the SPORF paper, we can say with confidence that this implementation is accurate. The datasets used in this notebook all had kappa values of 100 ± 0 in the SPORF paper implementation, which is also what is found when run on this SPORF implementation, as seen below. Thus, we can say with confidence that this implementation of SPORF is accurate."
   ]
  },
  {
   "cell_type": "markdown",
   "metadata": {},
   "source": [
    "## Import required packages"
   ]
  },
  {
   "cell_type": "code",
   "execution_count": 1,
   "metadata": {},
   "outputs": [],
   "source": [
    "import sys\n",
    "import numpy as np\n",
    "import pandas as pd\n",
    "\n",
    "from proglearn.progressive_learner import ProgressiveLearner\n",
    "from proglearn.forest import LifelongClassificationForest\n",
    "from proglearn.voters import TreeClassificationVoter\n",
    "from proglearn.transformers import TreeClassificationTransformer\n",
    "from proglearn.transformers import ObliqueTreeClassificationTransformer\n",
    "from proglearn.deciders import SimpleArgmaxAverage\n",
    "\n",
    "from sklearn.model_selection import train_test_split, cross_val_score\n",
    "\n",
    "from functions.sporf_datasets_functions import *"
   ]
  },
  {
   "cell_type": "markdown",
   "metadata": {},
   "source": [
    "## SPORF\n",
    "\n",
    "## Set parameters and run on hill valley without noise data"
   ]
  },
  {
   "cell_type": "code",
   "execution_count": 2,
   "metadata": {},
   "outputs": [
    {
     "name": "stdout",
     "output_type": "stream",
     "text": [
      "Accuracy after iteration  0 :  1.0\n",
      "Accuracy after iteration  1 :  1.0\n",
      "Accuracy after iteration  2 :  1.0\n",
      "Accuracy after iteration  3 :  1.0\n",
      "Accuracy after iteration  4 :  1.0\n",
      "kappa:  100.0 , error: 0.0\n"
     ]
    }
   ],
   "source": [
    "max_depth = 10\n",
    "feature_combinations = 2\n",
    "density = 0.01\n",
    "reps = 5\n",
    "n_trees = 10\n",
    "task_num = 1\n",
    "\n",
    "kwargs = {\"kwargs\" : {\"max_depth\" : max_depth, \"feature_combinations\" : feature_combinations, \"density\" : density}}\n",
    "\n",
    "kappa, err = test(\"https://archive.ics.uci.edu/ml/machine-learning-databases/hill-valley/Hill_Valley_without_noise_Training.data\", reps, n_trees, task_num,\n",
    "                            ObliqueTreeClassificationTransformer,\n",
    "                            kwargs)\n",
    "\n",
    "print(\"kappa: \", kappa, \", error:\", err)"
   ]
  },
  {
   "cell_type": "markdown",
   "metadata": {},
   "source": [
    "## Set parameters and run on acute inflammation task 1 data"
   ]
  },
  {
   "cell_type": "code",
   "execution_count": 3,
   "metadata": {},
   "outputs": [
    {
     "name": "stdout",
     "output_type": "stream",
     "text": [
      "Accuracy after iteration  0 :  1.0\n",
      "Accuracy after iteration  1 :  1.0\n",
      "Accuracy after iteration  2 :  1.0\n",
      "Accuracy after iteration  3 :  1.0\n",
      "Accuracy after iteration  4 :  1.0\n",
      "kappa:  100.0 , error: 0.0\n"
     ]
    }
   ],
   "source": [
    "max_depth = 10\n",
    "feature_combinations = 1.5\n",
    "density = 0.5\n",
    "reps = 5\n",
    "n_trees = 10\n",
    "task_num = 1\n",
    "\n",
    "kwargs = {\"kwargs\" : {\"max_depth\" : max_depth, \"feature_combinations\" : feature_combinations, \"density\" : density}}\n",
    "\n",
    "kappa, err = test(\"https://archive.ics.uci.edu/ml/machine-learning-databases/acute/diagnosis.data\", reps, n_trees, task_num,\n",
    "                            ObliqueTreeClassificationTransformer,\n",
    "                            kwargs)\n",
    "\n",
    "print(\"kappa: \", kappa, \", error:\", err)"
   ]
  },
  {
   "cell_type": "markdown",
   "metadata": {},
   "source": [
    "## Set parameters and run on acute inflammation task 2 data"
   ]
  },
  {
   "cell_type": "code",
   "execution_count": 4,
   "metadata": {},
   "outputs": [
    {
     "name": "stdout",
     "output_type": "stream",
     "text": [
      "Accuracy after iteration  0 :  1.0\n",
      "Accuracy after iteration  1 :  1.0\n",
      "Accuracy after iteration  2 :  1.0\n",
      "Accuracy after iteration  3 :  1.0\n",
      "Accuracy after iteration  4 :  1.0\n",
      "kappa:  100.0 , error: 0.0\n"
     ]
    }
   ],
   "source": [
    "max_depth = 10\n",
    "feature_combinations = 1.5\n",
    "density = 0.5\n",
    "reps = 5\n",
    "n_trees = 10\n",
    "task_num = 2\n",
    "\n",
    "kwargs = {\"kwargs\" : {\"max_depth\" : max_depth, \"feature_combinations\" : feature_combinations, \"density\" : density}}\n",
    "\n",
    "kappa, err = test(\"https://archive.ics.uci.edu/ml/machine-learning-databases/acute/diagnosis.data\", reps, n_trees, task_num,\n",
    "                            ObliqueTreeClassificationTransformer,\n",
    "                            kwargs)\n",
    "\n",
    "print(\"kappa: \", kappa, \", error:\", err)"
   ]
  },
  {
   "cell_type": "markdown",
   "metadata": {},
   "source": [
    "## Random Forest (RF)\n",
    "\n",
    "Now we will run the same datasets on a base Random forest. The goal of this is to show how SPORF can clearly outperform or perform as well as the Random Forest algorithm. As seen by the results below, SPORF has a much higher kappa value, than RF, for the hill valley without noise data and has the same value for the acute inflammation data sets. Having a high kappa value is desired since as mentioned above, it is a measure of how much the error rate over the chance error rate decreases."
   ]
  },
  {
   "cell_type": "markdown",
   "metadata": {},
   "source": [
    "## Set parameters and run on hill valley without noise data"
   ]
  },
  {
   "cell_type": "code",
   "execution_count": 5,
   "metadata": {},
   "outputs": [
    {
     "name": "stdout",
     "output_type": "stream",
     "text": [
      "Accuracy after iteration  0 :  0.5409836065573771\n",
      "Accuracy after iteration  1 :  0.5901639344262295\n",
      "Accuracy after iteration  2 :  0.5901639344262295\n",
      "Accuracy after iteration  3 :  0.6885245901639344\n",
      "Accuracy after iteration  4 :  0.5245901639344263\n",
      "kappa:  17.37704918032787 , error: 5.1130724431784715\n"
     ]
    }
   ],
   "source": [
    "max_depth = 10\n",
    "feature_combinations = 2\n",
    "density = 0.01\n",
    "reps = 5\n",
    "n_trees = 10\n",
    "task_num = 1\n",
    "\n",
    "kwargs = {\"kwargs\" : {\"max_depth\" : max_depth} }\n",
    "\n",
    "kappa, err = test(\"https://archive.ics.uci.edu/ml/machine-learning-databases/hill-valley/Hill_Valley_without_noise_Training.data\", reps, n_trees, task_num,\n",
    "                            TreeClassificationTransformer,\n",
    "                            kwargs)\n",
    "\n",
    "print(\"kappa: \", kappa, \", error:\", err)"
   ]
  },
  {
   "cell_type": "markdown",
   "metadata": {},
   "source": [
    "## Set parameters and run on acute inflammation task 1 data"
   ]
  },
  {
   "cell_type": "code",
   "execution_count": 6,
   "metadata": {},
   "outputs": [
    {
     "name": "stdout",
     "output_type": "stream",
     "text": [
      "Accuracy after iteration  0 :  1.0\n",
      "Accuracy after iteration  1 :  1.0\n",
      "Accuracy after iteration  2 :  1.0\n",
      "Accuracy after iteration  3 :  1.0\n",
      "Accuracy after iteration  4 :  1.0\n",
      "kappa:  100.0 , error: 0.0\n"
     ]
    }
   ],
   "source": [
    "max_depth = 10\n",
    "feature_combinations = 1.5\n",
    "density = 0.5\n",
    "reps = 5\n",
    "n_trees = 10\n",
    "task_num = 1\n",
    "\n",
    "kwargs = {\"kwargs\" : {\"max_depth\" : max_depth} }\n",
    "\n",
    "kappa, err = test(\"https://archive.ics.uci.edu/ml/machine-learning-databases/acute/diagnosis.data\", reps, n_trees, task_num,\n",
    "                            TreeClassificationTransformer,\n",
    "                            kwargs)\n",
    "\n",
    "print(\"kappa: \", kappa, \", error:\", err)"
   ]
  },
  {
   "cell_type": "markdown",
   "metadata": {},
   "source": [
    "## Set parameters and run on acute inflammation task 2 data"
   ]
  },
  {
   "cell_type": "code",
   "execution_count": 7,
   "metadata": {},
   "outputs": [
    {
     "name": "stdout",
     "output_type": "stream",
     "text": [
      "Accuracy after iteration  0 :  1.0\n",
      "Accuracy after iteration  1 :  1.0\n",
      "Accuracy after iteration  2 :  1.0\n",
      "Accuracy after iteration  3 :  1.0\n",
      "Accuracy after iteration  4 :  1.0\n",
      "kappa:  100.0 , error: 0.0\n"
     ]
    }
   ],
   "source": [
    "max_depth = 10\n",
    "feature_combinations = 1.5\n",
    "density = 0.5\n",
    "reps = 5\n",
    "n_trees = 10\n",
    "task_num = 2\n",
    "\n",
    "kwargs = {\"kwargs\" : {\"max_depth\" : max_depth} }\n",
    "\n",
    "kappa, err = test(\"https://archive.ics.uci.edu/ml/machine-learning-databases/acute/diagnosis.data\", reps, n_trees, task_num,\n",
    "                            TreeClassificationTransformer,\n",
    "                            kwargs)\n",
    "\n",
    "print(\"kappa: \", kappa, \", error:\", err)"
   ]
  }
 ],
 "metadata": {
  "kernelspec": {
   "display_name": "venv",
   "language": "python",
   "name": "venv"
  },
  "language_info": {
   "codemirror_mode": {
    "name": "ipython",
    "version": 3
   },
   "file_extension": ".py",
   "mimetype": "text/x-python",
   "name": "python",
   "nbconvert_exporter": "python",
   "pygments_lexer": "ipython3",
   "version": "3.6.9"
  }
 },
 "nbformat": 4,
 "nbformat_minor": 2
}
